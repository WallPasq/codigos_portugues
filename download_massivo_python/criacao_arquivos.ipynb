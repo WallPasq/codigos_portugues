{
 "cells": [
  {
   "cell_type": "code",
   "execution_count": 1,
   "id": "ed0e4d78-2ff8-4b1f-950e-0dcf070cab7f",
   "metadata": {},
   "outputs": [],
   "source": [
    "# Importando as bibliotecas necessárias\n",
    "\n",
    "import pandas as pd\n",
    "from string import ascii_letters\n",
    "from random import randint, choice\n",
    "import warnings\n",
    "warnings.filterwarnings(\"ignore\")"
   ]
  },
  {
   "cell_type": "code",
   "execution_count": 2,
   "id": "3749a5fb-f699-4b8a-ab7f-ab8ef7fd4e85",
   "metadata": {},
   "outputs": [],
   "source": [
    "# Criando os arquivos, salvando os mesmos e gerando a planilha\n",
    "\n",
    "head_link = 'https://raw.githubusercontent.com/WallPasq/codigos_portugues/main/download_massivo_python/arquivos_criados/'\n",
    "bd = pd.DataFrame(columns = ['rotulo', 'link', 'pasta'])\n",
    "\n",
    "for n in range(100):\n",
    "    extensao = choice(['.txt', '.csv', '.doc'])\n",
    "    \n",
    "    with open('arquivos_criados\\\\' + str(n).rjust(2, '0') + extensao, 'w') as arquivo:\n",
    "        for num in range(randint(100000, 1000000)):\n",
    "            arquivo.write(choice(ascii_letters))\n",
    "            \n",
    "    rotulo = randint(1000, 9999)\n",
    "    while rotulo in bd.rotulo:\n",
    "        rotulo = randint(1000, 9999)\n",
    "        \n",
    "    bd.loc[n, 'rotulo'] = rotulo\n",
    "    bd.loc[n, 'link'] = head_link + str(n).rjust(2, '0') + extensao\n",
    "    bd.loc[n, 'pasta'] = 'pasta' + str(randint(1, 5))\n",
    "    \n",
    "bd.to_csv('arquivos.csv', index = False)"
   ]
  }
 ],
 "metadata": {
  "kernelspec": {
   "display_name": "Python 3 (ipykernel)",
   "language": "python",
   "name": "python3"
  },
  "language_info": {
   "codemirror_mode": {
    "name": "ipython",
    "version": 3
   },
   "file_extension": ".py",
   "mimetype": "text/x-python",
   "name": "python",
   "nbconvert_exporter": "python",
   "pygments_lexer": "ipython3",
   "version": "3.9.7"
  }
 },
 "nbformat": 4,
 "nbformat_minor": 5
}
