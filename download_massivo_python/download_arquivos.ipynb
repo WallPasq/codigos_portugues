{
 "cells": [
  {
   "cell_type": "code",
   "execution_count": 1,
   "id": "f2c346b3-ef55-4ecb-9b00-838e088cedab",
   "metadata": {},
   "outputs": [],
   "source": [
    "# Importando as bibliotecas necessárias\n",
    "\n",
    "import os\n",
    "import pandas as pd\n",
    "from wget import download\n",
    "import warnings\n",
    "warnings.filterwarnings(\"ignore\")"
   ]
  },
  {
   "cell_type": "code",
   "execution_count": 2,
   "id": "e00e68a8-7296-43b3-9de5-bb3f949fd480",
   "metadata": {},
   "outputs": [
    {
     "data": {
      "text/html": [
       "<div>\n",
       "<style scoped>\n",
       "    .dataframe tbody tr th:only-of-type {\n",
       "        vertical-align: middle;\n",
       "    }\n",
       "\n",
       "    .dataframe tbody tr th {\n",
       "        vertical-align: top;\n",
       "    }\n",
       "\n",
       "    .dataframe thead th {\n",
       "        text-align: right;\n",
       "    }\n",
       "</style>\n",
       "<table border=\"1\" class=\"dataframe\">\n",
       "  <thead>\n",
       "    <tr style=\"text-align: right;\">\n",
       "      <th></th>\n",
       "      <th>rotulo</th>\n",
       "      <th>link</th>\n",
       "      <th>pasta</th>\n",
       "      <th>extensao</th>\n",
       "    </tr>\n",
       "  </thead>\n",
       "  <tbody>\n",
       "    <tr>\n",
       "      <th>0</th>\n",
       "      <td>8312</td>\n",
       "      <td>https://raw.githubusercontent.com/WallPasq/cod...</td>\n",
       "      <td>pasta2</td>\n",
       "      <td>.doc</td>\n",
       "    </tr>\n",
       "    <tr>\n",
       "      <th>1</th>\n",
       "      <td>7641</td>\n",
       "      <td>https://raw.githubusercontent.com/WallPasq/cod...</td>\n",
       "      <td>pasta3</td>\n",
       "      <td>.txt</td>\n",
       "    </tr>\n",
       "    <tr>\n",
       "      <th>2</th>\n",
       "      <td>3280</td>\n",
       "      <td>https://raw.githubusercontent.com/WallPasq/cod...</td>\n",
       "      <td>pasta5</td>\n",
       "      <td>.txt</td>\n",
       "    </tr>\n",
       "    <tr>\n",
       "      <th>3</th>\n",
       "      <td>7357</td>\n",
       "      <td>https://raw.githubusercontent.com/WallPasq/cod...</td>\n",
       "      <td>pasta1</td>\n",
       "      <td>.csv</td>\n",
       "    </tr>\n",
       "    <tr>\n",
       "      <th>4</th>\n",
       "      <td>5785</td>\n",
       "      <td>https://raw.githubusercontent.com/WallPasq/cod...</td>\n",
       "      <td>pasta5</td>\n",
       "      <td>.txt</td>\n",
       "    </tr>\n",
       "  </tbody>\n",
       "</table>\n",
       "</div>"
      ],
      "text/plain": [
       "   rotulo                                               link   pasta extensao\n",
       "0    8312  https://raw.githubusercontent.com/WallPasq/cod...  pasta2     .doc\n",
       "1    7641  https://raw.githubusercontent.com/WallPasq/cod...  pasta3     .txt\n",
       "2    3280  https://raw.githubusercontent.com/WallPasq/cod...  pasta5     .txt\n",
       "3    7357  https://raw.githubusercontent.com/WallPasq/cod...  pasta1     .csv\n",
       "4    5785  https://raw.githubusercontent.com/WallPasq/cod...  pasta5     .txt"
      ]
     },
     "execution_count": 2,
     "metadata": {},
     "output_type": "execute_result"
    }
   ],
   "source": [
    "# Importando a base de dados\n",
    "\n",
    "bd = pd.read_csv('arquivos.csv')\n",
    "bd['extensao'] = bd.link.str.extract(r'([.]\\w+)$')\n",
    "bd.head()"
   ]
  },
  {
   "cell_type": "code",
   "execution_count": 3,
   "id": "064be2ec-7c32-4cdd-929d-7e21a9151a19",
   "metadata": {},
   "outputs": [
    {
     "name": "stdout",
     "output_type": "stream",
     "text": [
      "100% [............................................................................] 246058 / 246058Wall time: 16.8 s\n"
     ]
    }
   ],
   "source": [
    "%%time\n",
    "\n",
    "# Criando as pastas, baixando os arquivos com os nomes corretos, e inserindo eles nas devidas pastas\n",
    "\n",
    "if not os.path.exists('arquivos_baixados'):\n",
    "    os.mkdir('arquivos_baixados')\n",
    "    \n",
    "for i in bd.index:\n",
    "    nome = str(bd.loc[i, 'rotulo']) + bd.loc[i, 'extensao']\n",
    "    link = bd.loc[i, 'link']\n",
    "    pasta = 'arquivos_baixados\\\\' + bd.loc[i, 'pasta']\n",
    "    \n",
    "    if not os.path.exists(pasta):\n",
    "        os.mkdir(pasta)\n",
    "    \n",
    "    arquivo = pasta + '\\\\' + nome\n",
    "    download(link, arquivo)"
   ]
  }
 ],
 "metadata": {
  "kernelspec": {
   "display_name": "Python 3 (ipykernel)",
   "language": "python",
   "name": "python3"
  },
  "language_info": {
   "codemirror_mode": {
    "name": "ipython",
    "version": 3
   },
   "file_extension": ".py",
   "mimetype": "text/x-python",
   "name": "python",
   "nbconvert_exporter": "python",
   "pygments_lexer": "ipython3",
   "version": "3.9.7"
  }
 },
 "nbformat": 4,
 "nbformat_minor": 5
}
